{
 "cells": [
  {
   "cell_type": "markdown",
   "id": "c4753eca",
   "metadata": {},
   "source": []
  },
  {
   "cell_type": "code",
   "execution_count": 1,
   "id": "15559d4a",
   "metadata": {},
   "outputs": [],
   "source": [
    "import numpy as np\n",
    "import os\n",
    "import math\n",
    "import matplotlib.pyplot as plt\n",
    "from skimage.feature import graycomatrix,graycoprops\n",
    "import pandas as pd\n",
    "import cv2"
   ]
  },
  {
   "cell_type": "code",
   "execution_count": 2,
   "id": "769eacfe",
   "metadata": {},
   "outputs": [],
   "source": [
    "slices=[]\n",
    "proList = ['contrast', 'homogeneity', 'ASM', 'energy']\n",
    "featlist = ['sumValue','contrast', 'homogeneity', 'ASM', 'energy','hue', 'saturaton', 'value','label']\n",
    "properties =np.zeros(5)\n",
    "glcmMatrix = []\n",
    "final=[]\n",
    "folders = [\"Skala0\",\"Skala1\",\"Skala2\",\"Skala3\",\"Skala4\"]"
   ]
  },
  {
   "cell_type": "code",
   "execution_count": 3,
   "id": "105c282e",
   "metadata": {},
   "outputs": [
    {
     "name": "stdout",
     "output_type": "stream",
     "text": [
      "Skala0\n",
      "0\n",
      "Skala1\n",
      "1\n",
      "Skala2\n",
      "2\n",
      "Skala3\n",
      "3\n",
      "Skala4\n",
      "4\n",
      "150\n"
     ]
    },
    {
     "data": {
      "image/png": "[encoded data removed]",
      "text/plain": [
       "<Figure size 640x480 with 1 Axes>"
      ]
     },
     "metadata": {},
     "output_type": "display_data"
    }
   ],
   "source": [
    "for folder in folders:\n",
    "    print(folder)\n",
    "    labell=folders.index(folder)\n",
    "    print(labell)\n",
    "    INPUT_SCAN_FOLDER=\"C:/Users/ASUS/OneDrive/Documents/SKRIPSI/skripsiu/Dataset/\"+folder+\"/\"\n",
    "\n",
    "    image_folder_list = os.listdir(INPUT_SCAN_FOLDER)\n",
    "#     print(image_folder_list)\n",
    "\n",
    "    for i in range(len(image_folder_list)):\n",
    "\n",
    "        abc =cv2.imread(INPUT_SCAN_FOLDER+image_folder_list[i])\n",
    "        dim = (1000, 1000)\n",
    "        resized = cv2.resize(abc, dim, interpolation = cv2.INTER_AREA)\n",
    "        #print('Resized Dimensions : ',resized.shape)\n",
    "\n",
    "        gray_image = cv2.cvtColor(resized, cv2.COLOR_BGR2GRAY)\n",
    "        hsv = cv2.cvtColor(resized, cv2.COLOR_BGR2HSV)\n",
    "        \n",
    "        lower_red = np.array([5,50, 50]) # ini nilainya darimana? buat apa?, i mean [5, 50, 50] apa?\n",
    "        upper_red  = np.array([20,255,255]) # ini juga sama nilainya darimana, buat apa? i mean [20, 255, 255] apa?\n",
    "        mask = cv2.inRange(hsv, lower_red, upper_red)\n",
    "        res = cv2.bitwise_and(resized, resized, mask=mask)\n",
    "        # plt.imshow(res, cmap='Blues', interpolation = 'bicubic')\n",
    "        plt.imshow(res)\n",
    "        plt.xticks([]),plt.yticks([])\n",
    "\n",
    "        \n",
    "        sum=0\n",
    "        result=res.flatten()\n",
    "        #print(len(result))\n",
    "        for k in range(3072):\n",
    "            sum+=result[k]^2\n",
    "        #print(sum)\n",
    "        sqsum=math.sqrt(sum)\n",
    "        #print(sqsum)\n",
    "\n",
    "        h,s,v = cv2.split(hsv)\n",
    "\n",
    "        h_mean = np.mean(h)\n",
    "        s_mean = np.mean(s)\n",
    "        v_mean = np.mean(v)\n",
    "\n",
    "        glcmMatrix = (graycomatrix(gray_image, [1], [0], levels=2 ** 8))\n",
    "        \n",
    "        for j in range(0, len(proList)):\n",
    "            properties[j] = (graycoprops(glcmMatrix, prop=proList[j]))\n",
    "\n",
    "        # print(properties)\n",
    "\n",
    "        features =np.array([sqsum, properties[0], properties[1], properties[2], properties[3], h_mean, s_mean, v_mean, labell])\n",
    "        final.append(features)\n",
    "print(len(final))\n"
   ]
  },
  {
   "cell_type": "code",
   "execution_count": 4,
   "id": "bb8a9a5f",
   "metadata": {},
   "outputs": [
    {
     "name": "stdout",
     "output_type": "stream",
     "text": [
      "78.38367176906169\n"
     ]
    }
   ],
   "source": [
    "print(sqsum)"
   ]
  },
  {
   "cell_type": "code",
   "execution_count": 5,
   "id": "ea642aa5",
   "metadata": {},
   "outputs": [],
   "source": [
    "df = pd.DataFrame(final, columns=featlist)\n",
    "df.to_csv(\"feature_dataset_1000px.csv\")\n",
    "s=pd.read_csv(\"feature_dataset_1000px.csv\")\n",
    "# for i in s.iterrows():\n",
    "#      print(i)"
   ]
  },
  {
   "cell_type": "code",
   "execution_count": 6,
   "id": "a09c48c5",
   "metadata": {},
   "outputs": [
    {
     "data": {
      "text/html": [
       "<div>\n",
       "<style scoped>\n",
       "    .dataframe tbody tr th:only-of-type {\n",
       "        vertical-align: middle;\n",
       "    }\n",
       "\n",
       "    .dataframe tbody tr th {\n",
       "        vertical-align: top;\n",
       "    }\n",
       "\n",
       "    .dataframe thead th {\n",
       "        text-align: right;\n",
       "    }\n",
       "</style>\n",
       "<table border=\"1\" class=\"dataframe\">\n",
       "  <thead>\n",
       "    <tr style=\"text-align: right;\">\n",
       "      <th></th>\n",
       "      <th>sumValue</th>\n",
       "      <th>contrast</th>\n",
       "      <th>homogeneity</th>\n",
       "      <th>ASM</th>\n",
       "      <th>energy</th>\n",
       "      <th>hue</th>\n",
       "      <th>saturaton</th>\n",
       "      <th>value</th>\n",
       "      <th>label</th>\n",
       "    </tr>\n",
       "  </thead>\n",
       "  <tbody>\n",
       "    <tr>\n",
       "      <th>0</th>\n",
       "      <td>78.383672</td>\n",
       "      <td>16.656466</td>\n",
       "      <td>0.938295</td>\n",
       "      <td>0.037338</td>\n",
       "      <td>0.193229</td>\n",
       "      <td>102.019578</td>\n",
       "      <td>6.076716</td>\n",
       "      <td>239.601118</td>\n",
       "      <td>0.0</td>\n",
       "    </tr>\n",
       "    <tr>\n",
       "      <th>1</th>\n",
       "      <td>78.383672</td>\n",
       "      <td>21.848998</td>\n",
       "      <td>0.916269</td>\n",
       "      <td>0.041866</td>\n",
       "      <td>0.204611</td>\n",
       "      <td>107.860592</td>\n",
       "      <td>49.071800</td>\n",
       "      <td>219.021018</td>\n",
       "      <td>0.0</td>\n",
       "    </tr>\n",
       "    <tr>\n",
       "      <th>2</th>\n",
       "      <td>78.383672</td>\n",
       "      <td>21.972524</td>\n",
       "      <td>0.914382</td>\n",
       "      <td>0.026455</td>\n",
       "      <td>0.162651</td>\n",
       "      <td>107.707690</td>\n",
       "      <td>42.995309</td>\n",
       "      <td>214.469718</td>\n",
       "      <td>0.0</td>\n",
       "    </tr>\n",
       "    <tr>\n",
       "      <th>3</th>\n",
       "      <td>78.383672</td>\n",
       "      <td>53.700932</td>\n",
       "      <td>0.906272</td>\n",
       "      <td>0.058693</td>\n",
       "      <td>0.242267</td>\n",
       "      <td>111.507190</td>\n",
       "      <td>21.193654</td>\n",
       "      <td>218.849183</td>\n",
       "      <td>0.0</td>\n",
       "    </tr>\n",
       "    <tr>\n",
       "      <th>4</th>\n",
       "      <td>78.383672</td>\n",
       "      <td>21.086079</td>\n",
       "      <td>0.905031</td>\n",
       "      <td>0.041597</td>\n",
       "      <td>0.203954</td>\n",
       "      <td>108.038949</td>\n",
       "      <td>60.611979</td>\n",
       "      <td>215.771037</td>\n",
       "      <td>0.0</td>\n",
       "    </tr>\n",
       "  </tbody>\n",
       "</table>\n",
       "</div>"
      ],
      "text/plain": [
       "    sumValue   contrast  homogeneity       ASM    energy         hue  \\\n",
       "0  78.383672  16.656466     0.938295  0.037338  0.193229  102.019578   \n",
       "1  78.383672  21.848998     0.916269  0.041866  0.204611  107.860592   \n",
       "2  78.383672  21.972524     0.914382  0.026455  0.162651  107.707690   \n",
       "3  78.383672  53.700932     0.906272  0.058693  0.242267  111.507190   \n",
       "4  78.383672  21.086079     0.905031  0.041597  0.203954  108.038949   \n",
       "\n",
       "   saturaton       value  label  \n",
       "0   6.076716  239.601118    0.0  \n",
       "1  49.071800  219.021018    0.0  \n",
       "2  42.995309  214.469718    0.0  \n",
       "3  21.193654  218.849183    0.0  \n",
       "4  60.611979  215.771037    0.0  "
      ]
     },
     "execution_count": 6,
     "metadata": {},
     "output_type": "execute_result"
    }
   ],
   "source": [
    "import pandas as pd\n",
    "df = pd.read_csv('feature_dataset_1000px.csv', index_col=0)\n",
    "df.head()"
   ]
  }
 ],
 "metadata": {
  "kernelspec": {
   "display_name": "Python 3 (ipykernel)",
   "language": "python",
   "name": "python3"
  },
  "language_info": {
   "codemirror_mode": {
    "name": "ipython",
    "version": 3
   },
   "file_extension": ".py",
   "mimetype": "text/x-python",
   "name": "python",
   "nbconvert_exporter": "python",
   "pygments_lexer": "ipython3",
   "version": "3.11.4"
  }
 },
 "nbformat": 4,
 "nbformat_minor": 5
}
